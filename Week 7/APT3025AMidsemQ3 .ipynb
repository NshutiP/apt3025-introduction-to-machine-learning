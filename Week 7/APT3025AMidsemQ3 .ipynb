{
 "cells": [
  {
   "cell_type": "markdown",
   "id": "7092dce2",
   "metadata": {
    "id": "7092dce2"
   },
   "source": [
    "HARSH CHANDRAKANT KAMANI - 659774"
   ]
  },
  {
   "cell_type": "markdown",
   "id": "fbd58639",
   "metadata": {
    "id": "fbd58639"
   },
   "source": [
    "1. Download the weather dataset provided on Blackboard and load it into a Jupyter notebook. (Hint: Load the file as we did the abalone file but provide a file path instead of a URL.)\n",
    "2. Display the first five rows of the dataset.\n",
    "3. Display the dimensions of the dataset, i.e., the number of rows and columns.\n",
    "4. You are going to use the minimum temperature as the input feature and the maximum temperature as the target. A cell has been provided that extracts the needed columns for you. Split the dataset into train and test datasets.\n",
    "6. Train a linear regression model for predicting the maximum temperature using only the minimum temperature as the input feature. \n",
    "7. Evaluate the model using RMSE\n",
    "8. Predict the maximum temperature on a day that has a minimum temperature of 10 degrees."
   ]
  },
  {
   "cell_type": "markdown",
   "id": "EX7fyb_Qk9xB",
   "metadata": {
    "id": "EX7fyb_Qk9xB"
   },
   "source": [
    "Question 1"
   ]
  },
  {
   "cell_type": "code",
   "execution_count": 1,
   "id": "W7wxyrPOkT_T",
   "metadata": {
    "id": "W7wxyrPOkT_T"
   },
   "outputs": [],
   "source": [
    "import pandas as pd"
   ]
  },
  {
   "cell_type": "code",
   "execution_count": 4,
   "id": "0e65214f",
   "metadata": {
    "id": "0e65214f"
   },
   "outputs": [],
   "source": [
    "path = \"/content/sample_data/weather.csv\"\n",
    "weather = pd.read_csv(path)"
   ]
  },
  {
   "cell_type": "markdown",
   "id": "JVw6102JlGic",
   "metadata": {
    "id": "JVw6102JlGic"
   },
   "source": [
    "Question 2"
   ]
  },
  {
   "cell_type": "code",
   "execution_count": 5,
   "id": "p3UxBVpPkyYr",
   "metadata": {
    "colab": {
     "base_uri": "https://localhost:8080/",
     "height": 268
    },
    "id": "p3UxBVpPkyYr",
    "outputId": "8fa9e719-83fb-4aee-b2ac-c3871f9aa3b9"
   },
   "outputs": [
    {
     "data": {
      "text/html": [
       "\n",
       "  <div id=\"df-6fd705ab-7701-4813-ab65-02d7d786b11e\">\n",
       "    <div class=\"colab-df-container\">\n",
       "      <div>\n",
       "<style scoped>\n",
       "    .dataframe tbody tr th:only-of-type {\n",
       "        vertical-align: middle;\n",
       "    }\n",
       "\n",
       "    .dataframe tbody tr th {\n",
       "        vertical-align: top;\n",
       "    }\n",
       "\n",
       "    .dataframe thead th {\n",
       "        text-align: right;\n",
       "    }\n",
       "</style>\n",
       "<table border=\"1\" class=\"dataframe\">\n",
       "  <thead>\n",
       "    <tr style=\"text-align: right;\">\n",
       "      <th></th>\n",
       "      <th>MinTemp</th>\n",
       "      <th>MaxTemp</th>\n",
       "      <th>Rainfall</th>\n",
       "      <th>Evaporation</th>\n",
       "      <th>Sunshine</th>\n",
       "      <th>WindGustDir</th>\n",
       "      <th>WindGustSpeed</th>\n",
       "      <th>WindDir9am</th>\n",
       "      <th>WindDir3pm</th>\n",
       "      <th>WindSpeed9am</th>\n",
       "      <th>WindSpeed3pm</th>\n",
       "      <th>Humidity9am</th>\n",
       "      <th>Humidity3pm</th>\n",
       "      <th>Pressure9am</th>\n",
       "      <th>Pressure3pm</th>\n",
       "      <th>Cloud9am</th>\n",
       "      <th>Cloud3pm</th>\n",
       "      <th>Temp9am</th>\n",
       "      <th>Temp3pm</th>\n",
       "      <th>RainToday</th>\n",
       "      <th>RISK_MM</th>\n",
       "      <th>RainTomorrow</th>\n",
       "    </tr>\n",
       "  </thead>\n",
       "  <tbody>\n",
       "    <tr>\n",
       "      <th>0</th>\n",
       "      <td>8.0</td>\n",
       "      <td>24.3</td>\n",
       "      <td>0.0</td>\n",
       "      <td>3.4</td>\n",
       "      <td>6.3</td>\n",
       "      <td>NW</td>\n",
       "      <td>30.0</td>\n",
       "      <td>SW</td>\n",
       "      <td>NW</td>\n",
       "      <td>6.0</td>\n",
       "      <td>20</td>\n",
       "      <td>68</td>\n",
       "      <td>29</td>\n",
       "      <td>1019.7</td>\n",
       "      <td>1015.0</td>\n",
       "      <td>7</td>\n",
       "      <td>7</td>\n",
       "      <td>14.4</td>\n",
       "      <td>23.6</td>\n",
       "      <td>No</td>\n",
       "      <td>3.6</td>\n",
       "      <td>Yes</td>\n",
       "    </tr>\n",
       "    <tr>\n",
       "      <th>1</th>\n",
       "      <td>14.0</td>\n",
       "      <td>26.9</td>\n",
       "      <td>3.6</td>\n",
       "      <td>4.4</td>\n",
       "      <td>9.7</td>\n",
       "      <td>ENE</td>\n",
       "      <td>39.0</td>\n",
       "      <td>E</td>\n",
       "      <td>W</td>\n",
       "      <td>4.0</td>\n",
       "      <td>17</td>\n",
       "      <td>80</td>\n",
       "      <td>36</td>\n",
       "      <td>1012.4</td>\n",
       "      <td>1008.4</td>\n",
       "      <td>5</td>\n",
       "      <td>3</td>\n",
       "      <td>17.5</td>\n",
       "      <td>25.7</td>\n",
       "      <td>Yes</td>\n",
       "      <td>3.6</td>\n",
       "      <td>Yes</td>\n",
       "    </tr>\n",
       "    <tr>\n",
       "      <th>2</th>\n",
       "      <td>13.7</td>\n",
       "      <td>23.4</td>\n",
       "      <td>3.6</td>\n",
       "      <td>5.8</td>\n",
       "      <td>3.3</td>\n",
       "      <td>NW</td>\n",
       "      <td>85.0</td>\n",
       "      <td>N</td>\n",
       "      <td>NNE</td>\n",
       "      <td>6.0</td>\n",
       "      <td>6</td>\n",
       "      <td>82</td>\n",
       "      <td>69</td>\n",
       "      <td>1009.5</td>\n",
       "      <td>1007.2</td>\n",
       "      <td>8</td>\n",
       "      <td>7</td>\n",
       "      <td>15.4</td>\n",
       "      <td>20.2</td>\n",
       "      <td>Yes</td>\n",
       "      <td>39.8</td>\n",
       "      <td>Yes</td>\n",
       "    </tr>\n",
       "    <tr>\n",
       "      <th>3</th>\n",
       "      <td>13.3</td>\n",
       "      <td>15.5</td>\n",
       "      <td>39.8</td>\n",
       "      <td>7.2</td>\n",
       "      <td>9.1</td>\n",
       "      <td>NW</td>\n",
       "      <td>54.0</td>\n",
       "      <td>WNW</td>\n",
       "      <td>W</td>\n",
       "      <td>30.0</td>\n",
       "      <td>24</td>\n",
       "      <td>62</td>\n",
       "      <td>56</td>\n",
       "      <td>1005.5</td>\n",
       "      <td>1007.0</td>\n",
       "      <td>2</td>\n",
       "      <td>7</td>\n",
       "      <td>13.5</td>\n",
       "      <td>14.1</td>\n",
       "      <td>Yes</td>\n",
       "      <td>2.8</td>\n",
       "      <td>Yes</td>\n",
       "    </tr>\n",
       "    <tr>\n",
       "      <th>4</th>\n",
       "      <td>7.6</td>\n",
       "      <td>16.1</td>\n",
       "      <td>2.8</td>\n",
       "      <td>5.6</td>\n",
       "      <td>10.6</td>\n",
       "      <td>SSE</td>\n",
       "      <td>50.0</td>\n",
       "      <td>SSE</td>\n",
       "      <td>ESE</td>\n",
       "      <td>20.0</td>\n",
       "      <td>28</td>\n",
       "      <td>68</td>\n",
       "      <td>49</td>\n",
       "      <td>1018.3</td>\n",
       "      <td>1018.5</td>\n",
       "      <td>7</td>\n",
       "      <td>7</td>\n",
       "      <td>11.1</td>\n",
       "      <td>15.4</td>\n",
       "      <td>Yes</td>\n",
       "      <td>0.0</td>\n",
       "      <td>No</td>\n",
       "    </tr>\n",
       "  </tbody>\n",
       "</table>\n",
       "</div>\n",
       "      <button class=\"colab-df-convert\" onclick=\"convertToInteractive('df-6fd705ab-7701-4813-ab65-02d7d786b11e')\"\n",
       "              title=\"Convert this dataframe to an interactive table.\"\n",
       "              style=\"display:none;\">\n",
       "        \n",
       "  <svg xmlns=\"http://www.w3.org/2000/svg\" height=\"24px\"viewBox=\"0 0 24 24\"\n",
       "       width=\"24px\">\n",
       "    <path d=\"M0 0h24v24H0V0z\" fill=\"none\"/>\n",
       "    <path d=\"M18.56 5.44l.94 2.06.94-2.06 2.06-.94-2.06-.94-.94-2.06-.94 2.06-2.06.94zm-11 1L8.5 8.5l.94-2.06 2.06-.94-2.06-.94L8.5 2.5l-.94 2.06-2.06.94zm10 10l.94 2.06.94-2.06 2.06-.94-2.06-.94-.94-2.06-.94 2.06-2.06.94z\"/><path d=\"M17.41 7.96l-1.37-1.37c-.4-.4-.92-.59-1.43-.59-.52 0-1.04.2-1.43.59L10.3 9.45l-7.72 7.72c-.78.78-.78 2.05 0 2.83L4 21.41c.39.39.9.59 1.41.59.51 0 1.02-.2 1.41-.59l7.78-7.78 2.81-2.81c.8-.78.8-2.07 0-2.86zM5.41 20L4 18.59l7.72-7.72 1.47 1.35L5.41 20z\"/>\n",
       "  </svg>\n",
       "      </button>\n",
       "      \n",
       "  <style>\n",
       "    .colab-df-container {\n",
       "      display:flex;\n",
       "      flex-wrap:wrap;\n",
       "      gap: 12px;\n",
       "    }\n",
       "\n",
       "    .colab-df-convert {\n",
       "      background-color: #E8F0FE;\n",
       "      border: none;\n",
       "      border-radius: 50%;\n",
       "      cursor: pointer;\n",
       "      display: none;\n",
       "      fill: #1967D2;\n",
       "      height: 32px;\n",
       "      padding: 0 0 0 0;\n",
       "      width: 32px;\n",
       "    }\n",
       "\n",
       "    .colab-df-convert:hover {\n",
       "      background-color: #E2EBFA;\n",
       "      box-shadow: 0px 1px 2px rgba(60, 64, 67, 0.3), 0px 1px 3px 1px rgba(60, 64, 67, 0.15);\n",
       "      fill: #174EA6;\n",
       "    }\n",
       "\n",
       "    [theme=dark] .colab-df-convert {\n",
       "      background-color: #3B4455;\n",
       "      fill: #D2E3FC;\n",
       "    }\n",
       "\n",
       "    [theme=dark] .colab-df-convert:hover {\n",
       "      background-color: #434B5C;\n",
       "      box-shadow: 0px 1px 3px 1px rgba(0, 0, 0, 0.15);\n",
       "      filter: drop-shadow(0px 1px 2px rgba(0, 0, 0, 0.3));\n",
       "      fill: #FFFFFF;\n",
       "    }\n",
       "  </style>\n",
       "\n",
       "      <script>\n",
       "        const buttonEl =\n",
       "          document.querySelector('#df-6fd705ab-7701-4813-ab65-02d7d786b11e button.colab-df-convert');\n",
       "        buttonEl.style.display =\n",
       "          google.colab.kernel.accessAllowed ? 'block' : 'none';\n",
       "\n",
       "        async function convertToInteractive(key) {\n",
       "          const element = document.querySelector('#df-6fd705ab-7701-4813-ab65-02d7d786b11e');\n",
       "          const dataTable =\n",
       "            await google.colab.kernel.invokeFunction('convertToInteractive',\n",
       "                                                     [key], {});\n",
       "          if (!dataTable) return;\n",
       "\n",
       "          const docLinkHtml = 'Like what you see? Visit the ' +\n",
       "            '<a target=\"_blank\" href=https://colab.research.google.com/notebooks/data_table.ipynb>data table notebook</a>'\n",
       "            + ' to learn more about interactive tables.';\n",
       "          element.innerHTML = '';\n",
       "          dataTable['output_type'] = 'display_data';\n",
       "          await google.colab.output.renderOutput(dataTable, element);\n",
       "          const docLink = document.createElement('div');\n",
       "          docLink.innerHTML = docLinkHtml;\n",
       "          element.appendChild(docLink);\n",
       "        }\n",
       "      </script>\n",
       "    </div>\n",
       "  </div>\n",
       "  "
      ],
      "text/plain": [
       "   MinTemp  MaxTemp  Rainfall  ...  RainToday  RISK_MM RainTomorrow\n",
       "0      8.0     24.3       0.0  ...         No      3.6          Yes\n",
       "1     14.0     26.9       3.6  ...        Yes      3.6          Yes\n",
       "2     13.7     23.4       3.6  ...        Yes     39.8          Yes\n",
       "3     13.3     15.5      39.8  ...        Yes      2.8          Yes\n",
       "4      7.6     16.1       2.8  ...        Yes      0.0           No\n",
       "\n",
       "[5 rows x 22 columns]"
      ]
     },
     "execution_count": 5,
     "metadata": {},
     "output_type": "execute_result"
    }
   ],
   "source": [
    "weather.head()"
   ]
  },
  {
   "cell_type": "markdown",
   "id": "QA-I_uRFlM2k",
   "metadata": {
    "id": "QA-I_uRFlM2k"
   },
   "source": [
    "Question 3"
   ]
  },
  {
   "cell_type": "code",
   "execution_count": 10,
   "id": "YYeDj5fclPzv",
   "metadata": {
    "colab": {
     "base_uri": "https://localhost:8080/",
     "height": 0
    },
    "id": "YYeDj5fclPzv",
    "outputId": "bf139d69-b726-4bbe-e996-d09189a4b1c9"
   },
   "outputs": [
    {
     "name": "stdout",
     "output_type": "stream",
     "text": [
      "     MinTemp  MaxTemp  Rainfall  ...  RainToday  RISK_MM RainTomorrow\n",
      "0        8.0     24.3       0.0  ...         No      3.6          Yes\n",
      "1       14.0     26.9       3.6  ...        Yes      3.6          Yes\n",
      "2       13.7     23.4       3.6  ...        Yes     39.8          Yes\n",
      "3       13.3     15.5      39.8  ...        Yes      2.8          Yes\n",
      "4        7.6     16.1       2.8  ...        Yes      0.0           No\n",
      "..       ...      ...       ...  ...        ...      ...          ...\n",
      "361      9.0     30.7       0.0  ...         No      0.0           No\n",
      "362      7.1     28.4       0.0  ...         No      0.0           No\n",
      "363     12.5     19.9       0.0  ...         No      0.0           No\n",
      "364     12.5     26.9       0.0  ...         No      0.0           No\n",
      "365     12.3     30.2       0.0  ...         No      0.0           No\n",
      "\n",
      "[366 rows x 22 columns]\n"
     ]
    }
   ],
   "source": [
    "print(weather)"
   ]
  },
  {
   "cell_type": "markdown",
   "id": "TQ9_ia9ll4RW",
   "metadata": {
    "id": "TQ9_ia9ll4RW"
   },
   "source": [
    "Question 4"
   ]
  },
  {
   "cell_type": "code",
   "execution_count": 12,
   "id": "2eb80178",
   "metadata": {
    "id": "2eb80178"
   },
   "outputs": [],
   "source": [
    "# 4. Extracting the input feature column and the target column\n",
    "# Exatract the input feature MinTemp\n",
    "X = weather['MinTemp'].values.reshape(-1, 1) \n",
    "# Extract the target MaxTemp\n",
    "y = weather['MaxTemp'].values.reshape(-1, 1)"
   ]
  },
  {
   "cell_type": "code",
   "execution_count": 13,
   "id": "f9bbbbb7",
   "metadata": {
    "id": "f9bbbbb7"
   },
   "outputs": [],
   "source": [
    "from sklearn.model_selection import train_test_split"
   ]
  },
  {
   "cell_type": "code",
   "execution_count": 14,
   "id": "1_N1XaDpmabP",
   "metadata": {
    "id": "1_N1XaDpmabP"
   },
   "outputs": [],
   "source": [
    "X_train, X_test, y_train, y_test = train_test_split(X, y, test_size=0.2, random_state=0)"
   ]
  },
  {
   "cell_type": "markdown",
   "id": "PA0e842snAn-",
   "metadata": {
    "id": "PA0e842snAn-"
   },
   "source": [
    "Question 5"
   ]
  },
  {
   "cell_type": "code",
   "execution_count": 17,
   "id": "9Czi0I4inCVI",
   "metadata": {
    "id": "9Czi0I4inCVI"
   },
   "outputs": [],
   "source": [
    "from sklearn.linear_model import LinearRegression"
   ]
  },
  {
   "cell_type": "code",
   "execution_count": 18,
   "id": "7ErvfCb7nwvH",
   "metadata": {
    "id": "7ErvfCb7nwvH"
   },
   "outputs": [],
   "source": [
    "lin_reg = LinearRegression()\n",
    "lin_reg.fit(X, y)\n",
    "y_pred = lin_reg.predict(X)"
   ]
  },
  {
   "cell_type": "markdown",
   "id": "ya9XO6mfoM7-",
   "metadata": {
    "id": "ya9XO6mfoM7-"
   },
   "source": [
    "Question 6"
   ]
  },
  {
   "cell_type": "code",
   "execution_count": 19,
   "id": "Kq2a_BHdoOam",
   "metadata": {
    "id": "Kq2a_BHdoOam"
   },
   "outputs": [],
   "source": [
    "from sklearn.metrics import mean_squared_error\n",
    "from math import sqrt"
   ]
  },
  {
   "cell_type": "code",
   "execution_count": 21,
   "id": "a24HAeuhpHQo",
   "metadata": {
    "colab": {
     "base_uri": "https://localhost:8080/",
     "height": 0
    },
    "id": "a24HAeuhpHQo",
    "outputId": "3a7a00eb-132e-4086-cf60-5986ec75c60d"
   },
   "outputs": [
    {
     "name": "stdout",
     "output_type": "stream",
     "text": [
      "4.470337705264274\n"
     ]
    }
   ],
   "source": [
    "train_pred = lin_reg.predict(X_train)\n",
    "mse = mean_squared_error(y_train, train_pred)\n",
    "rmse = sqrt(mse)\n",
    "print(rmse)"
   ]
  },
  {
   "cell_type": "code",
   "execution_count": 20,
   "id": "tvbcfMXtoiG5",
   "metadata": {
    "colab": {
     "base_uri": "https://localhost:8080/",
     "height": 0
    },
    "id": "tvbcfMXtoiG5",
    "outputId": "b0605e3a-9a63-4c1b-83bb-adb158fa3c87"
   },
   "outputs": [
    {
     "name": "stdout",
     "output_type": "stream",
     "text": [
      "4.1134811377630935\n"
     ]
    }
   ],
   "source": [
    "test_pred = lin_reg.predict(X_test)\n",
    "mse = mean_squared_error(y_test, test_pred)\n",
    "rmse = sqrt(mse)\n",
    "print(rmse)"
   ]
  },
  {
   "cell_type": "markdown",
   "id": "YNoqd7lLpZwV",
   "metadata": {
    "id": "YNoqd7lLpZwV"
   },
   "source": [
    "Question 7"
   ]
  },
  {
   "cell_type": "code",
   "execution_count": 22,
   "id": "YAGgMaj4pbL2",
   "metadata": {
    "id": "YAGgMaj4pbL2"
   },
   "outputs": [],
   "source": [
    "import numpy as np"
   ]
  },
  {
   "cell_type": "code",
   "execution_count": 23,
   "id": "urjuozk2p1iL",
   "metadata": {
    "colab": {
     "base_uri": "https://localhost:8080/",
     "height": 0
    },
    "id": "urjuozk2p1iL",
    "outputId": "11e3d5da-ee8d-4f5c-a2db-bdb56e4efb46"
   },
   "outputs": [
    {
     "data": {
      "text/plain": [
       "array([[22.83482366]])"
      ]
     },
     "execution_count": 23,
     "metadata": {},
     "output_type": "execute_result"
    }
   ],
   "source": [
    "X_new = np.array([[10]])\n",
    "lin_reg.predict(X_new)"
   ]
  }
 ],
 "metadata": {
  "colab": {
   "collapsed_sections": [],
   "name": "APT3025AMidsemQ3.ipynb",
   "provenance": []
  },
  "kernelspec": {
   "display_name": "Python 3 (ipykernel)",
   "language": "python",
   "name": "python3"
  },
  "language_info": {
   "codemirror_mode": {
    "name": "ipython",
    "version": 3
   },
   "file_extension": ".py",
   "mimetype": "text/x-python",
   "name": "python",
   "nbconvert_exporter": "python",
   "pygments_lexer": "ipython3",
   "version": "3.9.7"
  }
 },
 "nbformat": 4,
 "nbformat_minor": 5
}
