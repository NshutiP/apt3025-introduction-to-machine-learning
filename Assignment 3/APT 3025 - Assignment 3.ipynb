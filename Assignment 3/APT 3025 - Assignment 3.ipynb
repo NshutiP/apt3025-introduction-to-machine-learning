{
 "cells": [
  {
   "cell_type": "markdown",
   "id": "17399bad",
   "metadata": {},
   "source": [
    "1. Using scikit-learn to create a synthetic dataset for classification with 20,000 instances"
   ]
  },
  {
   "cell_type": "code",
   "execution_count": 32,
   "id": "cb6f8e13",
   "metadata": {},
   "outputs": [],
   "source": [
    "from sklearn.model_selection import cross_val_score\n",
    "from sklearn.datasets import make_blobs\n",
    "from sklearn.linear_model import LogisticRegression\n",
    "from sklearn.ensemble import RandomForestClassifier"
   ]
  },
  {
   "cell_type": "code",
   "execution_count": 33,
   "id": "f32d1e5c",
   "metadata": {},
   "outputs": [],
   "source": [
    "X, y = make_blobs (n_samples = 20000, random_state = 0)"
   ]
  },
  {
   "cell_type": "markdown",
   "id": "ccafc3ee",
   "metadata": {},
   "source": [
    "2. Selecting any two classification algorithms"
   ]
  },
  {
   "cell_type": "code",
   "execution_count": 34,
   "id": "8a078907",
   "metadata": {},
   "outputs": [],
   "source": [
    "logreg = LogisticRegression(max_iter=400)\n",
    "rnd_clf = RandomForestClassifier()"
   ]
  },
  {
   "cell_type": "markdown",
   "id": "5f52112c",
   "metadata": {},
   "source": [
    "3. Using k-fold cross validation to evaluate each algorithm"
   ]
  },
  {
   "cell_type": "code",
   "execution_count": 35,
   "id": "35dbb69c",
   "metadata": {},
   "outputs": [
    {
     "name": "stdout",
     "output_type": "stream",
     "text": [
      "0.9194540272986351\n",
      "0.9179541022948853\n",
      "0.9228922892289229\n",
      "Average cross-validation score for Logistic Regression: 0.92\n"
     ]
    }
   ],
   "source": [
    "scores = cross_val_score (logreg, X, y,cv=3)\n",
    "for score in scores:\n",
    "    print (score)\n",
    "print(\"Average cross-validation score for Logistic Regression: {:.2f}\".format(scores.mean()))"
   ]
  },
  {
   "cell_type": "code",
   "execution_count": 36,
   "id": "3ebd60ad",
   "metadata": {},
   "outputs": [
    {
     "name": "stdout",
     "output_type": "stream",
     "text": [
      "0.9064046797660117\n",
      "0.9020548972551372\n",
      "0.9128412841284128\n",
      "Average cross-validation score for Random Forest Classifier: 0.91\n"
     ]
    }
   ],
   "source": [
    "scores_rfc = cross_val_score (rnd_clf, X, y,cv=3)\n",
    "for score_rfc in scores_rfc:\n",
    "    print (score_rfc)\n",
    "print(\"Average cross-validation score for Random Forest Classifier: {:.2f}\".format(scores_rfc.mean()))"
   ]
  }
 ],
 "metadata": {
  "kernelspec": {
   "display_name": "Python 3 (ipykernel)",
   "language": "python",
   "name": "python3"
  },
  "language_info": {
   "codemirror_mode": {
    "name": "ipython",
    "version": 3
   },
   "file_extension": ".py",
   "mimetype": "text/x-python",
   "name": "python",
   "nbconvert_exporter": "python",
   "pygments_lexer": "ipython3",
   "version": "3.9.7"
  }
 },
 "nbformat": 4,
 "nbformat_minor": 5
}
